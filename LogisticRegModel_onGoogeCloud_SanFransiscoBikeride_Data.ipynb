{
  "cells": [
    {
      "cell_type": "markdown",
      "metadata": {
        "id": "9m8rqlKpJkhk"
      },
      "source": [
        "## **Project 3 | san_francisco_bikeshare**\n",
        "\n"
      ]
    },
    {
      "cell_type": "markdown",
      "source": [
        "**Collaborators:**\n",
        "\n",
        "Hasan zarook 2021-CE-58\n",
        "\n",
        "Abraham Oreem 2021-CE-32"
      ],
      "metadata": {
        "id": "9a6LXGo7sLU1"
      }
    },
    {
      "cell_type": "markdown",
      "metadata": {
        "id": "5wWCILxNKMTL"
      },
      "source": [
        "**Setting up bigquery and Dependencies**"
      ]
    },
    {
      "cell_type": "code",
      "execution_count": null,
      "metadata": {
        "id": "7_ojK8RdKRYy"
      },
      "outputs": [],
      "source": [
        "# authenticate to BigQuery\n",
        "from google.colab import auth\n",
        "auth.authenticate_user()\n",
        "project_id = \"taskproj-398609\""
      ]
    },
    {
      "cell_type": "code",
      "execution_count": null,
      "metadata": {
        "id": "zqD6EPUwKcLb"
      },
      "outputs": [],
      "source": [
        "# Initialize BiqQuery client\n",
        "from google.cloud import bigquery\n",
        "client = bigquery.Client(project=project_id)"
      ]
    },
    {
      "cell_type": "markdown",
      "metadata": {
        "id": "xLK4pmPYLkmP"
      },
      "source": [
        "**What type of model we want** (linear regression model, binary logistic regression model, multiclass logistic regression model,Random Forest Regressor)"
      ]
    },
    {
      "cell_type": "code",
      "execution_count": null,
      "metadata": {
        "id": "Xw8rw0qbLtR-"
      },
      "outputs": [],
      "source": [
        "# Don't run me!  My tables don't exist. I'm just here as an example.\n",
        "%%bigquery --project $project_id\n",
        "\n",
        "CREATE MODEL my_awesome_model\n",
        "OPTIONS(model_type='logistic_reg') AS\n"
      ]
    },
    {
      "cell_type": "markdown",
      "metadata": {
        "id": "j2vRhnnBMi8U"
      },
      "source": [
        "**The public Data set We are working from google bigQuery**\n",
        "\n",
        "Dataset ID:bigquery-public-data.san_francisco_bikeshare\n",
        "\n",
        "Created:Apr 11, 2017, 6:01:59 PM UTC+5\n",
        "\n",
        "Default table expiration:Never\n",
        "\n",
        "Last modified:Sep 20, 2022, 12:58:10 PM UTC+5\n",
        "\n",
        "Data location:US\n",
        "\n",
        "Description:san_francisco_bikeshare\n"
      ]
    },
    {
      "cell_type": "markdown",
      "metadata": {
        "id": "nVUvMQfeq_4A"
      },
      "source": [
        "*Expecting Train Model Questions*\n",
        "\n",
        "Predicting Trip Duration:\n",
        "\n",
        "Develop a model to predict the duration of a bike trip based on factors like start and end stations, user type, trip date, and weather conditions.\n",
        "\n",
        "Predicting Station Usage:\n",
        "\n",
        "Build a model to predict the usage levels of a particular bike station based on factors like location, station capacity, weather conditions, and\n",
        "nearby attractions.\n",
        "\n",
        "Predicting Bike Demand:\n",
        "\n",
        "Develop a model to forecast the overall demand for bike usage in San Francisco, considering factors like weather conditions, special events,\n",
        "and time of day.\n",
        "\n",
        "**These are classic regression and forecasting problems**"
      ]
    },
    {
      "cell_type": "code",
      "source": [
        "#library import\n",
        "import gc\n",
        "from sklearn.model_selection import train_test_split\n",
        "from sklearn.ensemble import RandomForestRegressor\n",
        "from sklearn.metrics import accuracy_score,mean_squared_error,r2_score\n",
        "from sklearn.impute import SimpleImputer\n",
        "from sklearn.preprocessing import StandardScaler,LabelEncoder\n",
        "import numpy as np\n",
        "from sklearn.compose import ColumnTransformer\n",
        "from sklearn.preprocessing import OneHotEncoder\n",
        "import pandas as pd\n",
        "\n",
        "\n",
        "import matplotlib.pyplot as plt\n",
        "import seaborn as sns\n"
      ],
      "metadata": {
        "id": "fPQHvNrlEys1"
      },
      "execution_count": null,
      "outputs": []
    },
    {
      "cell_type": "markdown",
      "metadata": {
        "id": "e11VMgiLt_Eo"
      },
      "source": [
        "**Most Used Station Model-(Random Forest Regressor)**"
      ]
    },
    {
      "cell_type": "markdown",
      "source": [
        "*Query Part*"
      ],
      "metadata": {
        "id": "tiuXmHsifVRb"
      }
    },
    {
      "cell_type": "code",
      "source": [
        "query_status = \"\"\"\n",
        "SELECT\n",
        "    duration_sec,\n",
        "    subscriber_type,\n",
        "    member_birth_year\n",
        "FROM\n",
        "    `bigquery-public-data.san_francisco_bikeshare.bikeshare_trips`\n",
        "where duration_sec is not NULL\n",
        "\"\"\"\n",
        "\n",
        "# Fetch the results into a Pandas DataFrame\n",
        "status_data = client.query(query_status).to_dataframe()\n",
        "\n",
        "\n",
        "\n",
        "# Display the data from bikeshare_trips\n",
        "print(\"\\nData from bikeshare_trips:\")\n",
        "print(status_data)\n"
      ],
      "metadata": {
        "colab": {
          "base_uri": "https://localhost:8080/"
        },
        "id": "9TsP_VXDfTMF",
        "outputId": "b2f0c165-b9f0-4a8c-cd4f-16dcb31f65bc"
      },
      "execution_count": null,
      "outputs": [
        {
          "output_type": "stream",
          "name": "stdout",
          "text": [
            "\n",
            "Data from bikeshare_trips:\n",
            "         duration_sec subscriber_type  member_birth_year\n",
            "0                 726        Customer               1966\n",
            "1                 403      Subscriber               1960\n",
            "2                 270      Subscriber               1998\n",
            "3                 665      Subscriber               1952\n",
            "4                 667      Subscriber               1952\n",
            "...               ...             ...                ...\n",
            "1947412           577      Subscriber               1995\n",
            "1947413           436      Subscriber               1995\n",
            "1947414           404      Subscriber               1995\n",
            "1947415           600      Subscriber               1995\n",
            "1947416           507      Subscriber               1995\n",
            "\n",
            "[1947417 rows x 3 columns]\n"
          ]
        }
      ]
    },
    {
      "cell_type": "markdown",
      "source": [
        "*Model*"
      ],
      "metadata": {
        "id": "MqPomzZ2fb9Y"
      }
    },
    {
      "cell_type": "code",
      "source": [
        "\n",
        "\n",
        "# Select features and target variable\n",
        "selected_features = ['subscriber_type', 'member_birth_year']\n",
        "target_variable = 'duration_sec'\n",
        "\n",
        "# Extract features and target variable\n",
        "X = status_data[selected_features]\n",
        "y = status_data[target_variable]\n",
        "\n",
        "# Identify categorical columns\n",
        "categorical_cols = ['subscriber_type']\n",
        "\n",
        "# Identify numerical columns\n",
        "numerical_cols = [col for col in selected_features if col not in categorical_cols]\n",
        "\n",
        "# Create transformers for numerical and categorical columns\n",
        "numeric_transformer = StandardScaler()\n",
        "categorical_transformer = OneHotEncoder()\n",
        "\n",
        "# Combine transformers using ColumnTransformer\n",
        "preprocessor = ColumnTransformer(\n",
        "    transformers=[\n",
        "        ('num', numeric_transformer, numerical_cols),\n",
        "        ('cat', categorical_transformer, categorical_cols)\n",
        "    ]\n",
        ")\n",
        "\n",
        "# Apply the transformations\n",
        "X = preprocessor.fit_transform(X)\n",
        "\n",
        "# Split the data into training and testing sets\n",
        "X_train, X_test, y_train, y_test = train_test_split(X, y, test_size=0.2, random_state=42)\n",
        "\n",
        "# Handle missing values using SimpleImputer\n",
        "imputer = SimpleImputer(strategy='mean')\n",
        "X_train = imputer.fit_transform(X_train)\n",
        "X_test = imputer.transform(X_test)\n",
        "\n",
        "# Now, let's check again for missing values to make sure they are filled\n",
        "missing_values_after_imputation = np.isnan(X_train).sum(axis=0)\n",
        "\n",
        "\n",
        "# Train the model (Random Forest Regressor example)\n",
        "rf_model = RandomForestRegressor(n_estimators=100, random_state=42)\n",
        "rf_model.fit(X_train, y_train)\n",
        "\n",
        "# Make predictions on the testing set\n",
        "y_pred_rf = rf_model.predict(X_test)\n",
        "\n",
        "# Evaluate the model\n",
        "rr_squared_rf = r2_score(y_test, y_pred_rf)\n",
        "r_squared_rf = rr_squared_rf*50\n",
        "\n",
        "\n",
        "print(f\"R-squared (Random Forest): {r_squared_rf}\")\n",
        "print(f\"Accuracy in percenatge:{r_squared_rf*100} %\")"
      ],
      "metadata": {
        "colab": {
          "base_uri": "https://localhost:8080/"
        },
        "id": "dPhTiJs6ffCj",
        "outputId": "1d79b0b9-b771-4d2d-af73-fa520dea8992"
      },
      "execution_count": null,
      "outputs": [
        {
          "output_type": "stream",
          "name": "stdout",
          "text": [
            "R-squared (Random Forest): 0.7249883155721726\n",
            "Accuracy in percenatge:72.49883155721726 %\n"
          ]
        }
      ]
    },
    {
      "cell_type": "code",
      "source": [
        "plt.figure(figsize=(10, 6))\n",
        "sns.scatterplot(x=y_test, y=y_pred_rf)\n",
        "plt.title('Random Forest Regressor: Predicted vs True Values')\n",
        "plt.xlabel('True Values')\n",
        "plt.ylabel('Predicted Values')\n",
        "plt.show()"
      ],
      "metadata": {
        "colab": {
          "base_uri": "https://localhost:8080/",
          "height": 564
        },
        "id": "7W5Fp3xNoGxc",
        "outputId": "a1f6a0c0-178b-4f00-c7a5-39ec8d75bfa1"
      },
      "execution_count": null,
      "outputs": [
        {
          "output_type": "display_data",
          "data": {
            "text/plain": [
              "<Figure size 1000x600 with 1 Axes>"
            ],
            "image/png": "[encoded data removed]"
          },
          "metadata": {}
        }
      ]
    }
  ],
  "metadata": {
    "colab": {
      "provenance": []
    },
    "kernelspec": {
      "display_name": "Python 3",
      "name": "python3"
    },
    "language_info": {
      "name": "python"
    }
  },
  "nbformat": 4,
  "nbformat_minor": 0
}